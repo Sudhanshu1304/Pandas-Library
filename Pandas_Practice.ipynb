{
  "nbformat": 4,
  "nbformat_minor": 0,
  "metadata": {
    "colab": {
      "name": "Pandas Practice",
      "provenance": [],
      "collapsed_sections": [],
      "authorship_tag": "ABX9TyMryc2Be21B9LOS4vkNqr+/",
      "include_colab_link": true
    },
    "kernelspec": {
      "name": "python3",
      "display_name": "Python 3"
    }
  },
  "cells": [
    {
      "cell_type": "markdown",
      "metadata": {
        "id": "view-in-github",
        "colab_type": "text"
      },
      "source": [
        "<a href=\"https://colab.research.google.com/github/Sudhanshu1304/Pandas-Library/blob/main/Pandas_Practice.ipynb\" target=\"_parent\"><img src=\"https://colab.research.google.com/assets/colab-badge.svg\" alt=\"Open In Colab\"/></a>"
      ]
    },
    {
      "cell_type": "markdown",
      "metadata": {
        "id": "ztZljz9c17hd"
      },
      "source": [
        "# **Solve all the Questions in the given order**"
      ]
    },
    {
      "cell_type": "markdown",
      "metadata": {
        "id": "U2KxUVVU1y6z"
      },
      "source": [
        "# **1. Import the Car data (All further oprations would be done on this data)**"
      ]
    },
    {
      "cell_type": "code",
      "metadata": {
        "id": "gydCNVhg3Jxj"
      },
      "source": [
        "'''Solution here'''"
      ],
      "execution_count": null,
      "outputs": []
    },
    {
      "cell_type": "markdown",
      "metadata": {
        "id": "Q9UXf6kY1y_E"
      },
      "source": [
        "# **2. Display the complete column of Selling , Present , Kms_Driven together using iloc[]**"
      ]
    },
    {
      "cell_type": "code",
      "metadata": {
        "id": "MHbT8HXy3KEs"
      },
      "source": [
        "'''Solution here'''"
      ],
      "execution_count": null,
      "outputs": []
    },
    {
      "cell_type": "markdown",
      "metadata": {
        "id": "jI_xSuD11zCz"
      },
      "source": [
        "# **3. Display the last row of the dataset.**"
      ]
    },
    {
      "cell_type": "code",
      "metadata": {
        "id": "1pfP-fAS3KMu"
      },
      "source": [
        "'''Solution here'''"
      ],
      "execution_count": null,
      "outputs": []
    },
    {
      "cell_type": "markdown",
      "metadata": {
        "id": "ojGbzLU31zGl"
      },
      "source": [
        "# **4. Display  Count of CNG , Petrol and Diesal present in the data .**"
      ]
    },
    {
      "cell_type": "code",
      "metadata": {
        "id": "j1Hg37w13KSA"
      },
      "source": [
        "'''Solution here'''"
      ],
      "execution_count": null,
      "outputs": []
    },
    {
      "cell_type": "markdown",
      "metadata": {
        "id": "bqyNa6OW1zNJ"
      },
      "source": [
        "# **5. Fill all the NaN values of Numerical columns with there respective mean().**"
      ]
    },
    {
      "cell_type": "code",
      "metadata": {
        "id": "vSxAlXCx3KW0"
      },
      "source": [
        "'''Solution here'''\n"
      ],
      "execution_count": null,
      "outputs": []
    },
    {
      "cell_type": "markdown",
      "metadata": {
        "id": "jUkaiY5U1zT6"
      },
      "source": [
        "# **6. Fill all the NaN values of Catagorical Column with mode().**"
      ]
    },
    {
      "cell_type": "code",
      "metadata": {
        "id": "fLBgnuJJ3Kb0"
      },
      "source": [
        "'''Solution here'''"
      ],
      "execution_count": null,
      "outputs": []
    },
    {
      "cell_type": "markdown",
      "metadata": {
        "id": "wqVp43AF1zXs"
      },
      "source": [
        "# **7. Drop the Last Column i.e \"Owner\".**"
      ]
    },
    {
      "cell_type": "code",
      "metadata": {
        "id": "e_4P-MbL3KgR"
      },
      "source": [
        "'''Solution here'''\n"
      ],
      "execution_count": null,
      "outputs": []
    },
    {
      "cell_type": "markdown",
      "metadata": {
        "id": "Ag2JIciO1zRz"
      },
      "source": [
        "# **8. Drop the last row of the dataset.** "
      ]
    },
    {
      "cell_type": "code",
      "metadata": {
        "id": "qDMmyBNK3KlR"
      },
      "source": [
        "'''Solution here'''"
      ],
      "execution_count": null,
      "outputs": []
    },
    {
      "cell_type": "markdown",
      "metadata": {
        "id": "tOTUjBiG1zKF"
      },
      "source": [
        "# **9. Display data with Selling price greater than 7 (>7).**"
      ]
    },
    {
      "cell_type": "code",
      "metadata": {
        "id": "1UPbRd203Kpi"
      },
      "source": [
        "'''Solution here'''"
      ],
      "execution_count": null,
      "outputs": []
    },
    {
      "cell_type": "markdown",
      "metadata": {
        "id": "g7G5AByD20yM"
      },
      "source": [
        "# **10. Display all the Names of the cars whose Selling_Price >8 and Present_Price >8.**"
      ]
    },
    {
      "cell_type": "code",
      "metadata": {
        "id": "zzWmj1IX3KuC"
      },
      "source": [
        "'''Solution here'''"
      ],
      "execution_count": null,
      "outputs": []
    },
    {
      "cell_type": "markdown",
      "metadata": {
        "id": "sqrBdq7i204X"
      },
      "source": [
        "# **11. Replace ( Petrol ⛽ with 1 ) ,( Diesel with 2 ),( CNG with 3 ) in the Fuel_Type Column.**\n"
      ]
    },
    {
      "cell_type": "code",
      "metadata": {
        "id": "LcCDT1i53K0Z"
      },
      "source": [
        "'''Solution here'''"
      ],
      "execution_count": null,
      "outputs": []
    },
    {
      "cell_type": "markdown",
      "metadata": {
        "id": "lUTyFXbT209g"
      },
      "source": [
        "# **12. Convert the type of Present_Price column from Floor to Int .**"
      ]
    },
    {
      "cell_type": "code",
      "metadata": {
        "id": "tEbu6G_13K7j"
      },
      "source": [
        "'''Solution here'''"
      ],
      "execution_count": null,
      "outputs": []
    }
  ]
}