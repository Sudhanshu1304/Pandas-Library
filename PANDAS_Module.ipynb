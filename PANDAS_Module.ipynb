{
  "nbformat": 4,
  "nbformat_minor": 0,
  "metadata": {
    "colab": {
      "name": "PANDAS_Module.ipynb",
      "provenance": [],
      "collapsed_sections": [
        "cJnIiIe_LvJo",
        "4C78UWKUtyf6",
        "v87q5RV_kekp",
        "Mn0WIDviZ4WK",
        "CmNmEGnfiJcN",
        "Z1pIy1GXtNQG",
        "cFtC-JFTtUwi",
        "HIh11E-atbTj",
        "tY8GRAU8uyLR",
        "W_Ya9hFGvF7P",
        "UEtN_wyHxPrR",
        "39c_BJxY3Z2T",
        "eK9R508f5Iqm",
        "lxhRamFgHaqE",
        "WdEVJx7pH04V",
        "KLnxts1YCZJk",
        "bA4y6BSpLvKO",
        "qVbUPBPZWE4M"
      ],
      "authorship_tag": "ABX9TyP1hZWBWm8pD8RUaUdlhpCb",
      "include_colab_link": true
    },
    "kernelspec": {
      "name": "python3",
      "display_name": "Python 3"
    }
  },
  "cells": [
    {
      "cell_type": "markdown",
      "metadata": {
        "id": "view-in-github",
        "colab_type": "text"
      },
      "source": [
        "<a href=\"https://colab.research.google.com/github/Sudhanshu1304/Pandas-Library/blob/main/PANDAS_Module.ipynb\" target=\"_parent\"><img src=\"https://colab.research.google.com/assets/colab-badge.svg\" alt=\"Open In Colab\"/></a>"
      ]
    },
    {
      "cell_type": "markdown",
      "metadata": {
        "id": "cJnIiIe_LvJo"
      },
      "source": [
        "# **Pandas Library**\n",
        "\n"
      ]
    },
    {
      "cell_type": "code",
      "metadata": {
        "id": "OHrHPrZ0MD8l"
      },
      "source": [
        "import pandas as pd"
      ],
      "execution_count": null,
      "outputs": []
    },
    {
      "cell_type": "markdown",
      "metadata": {
        "id": "VWaWF_TAWOa9"
      },
      "source": [
        "### Basic Commends to Know in Pandas\n",
        "***\n",
        "<br>\n",
        "\n",
        "These are some of the basic commands in pandas which are frequently needed,\n",
        "\n",
        "and are also helpfull in Data preprocessing \n",
        "<br>\n",
        "\n",
        "**data = pd.read_csv('  ')**\n",
        "\n",
        "<br><br>\n",
        "\n",
        "\n",
        "0. [DataFrame](https://www.geeksforgeeks.org/python-pandas-dataframe/)\n",
        "> A Data frame is a two-dimensional data structure, i.e., data is aligned in a tabular fashion in rows and columns.\n",
        "\n",
        "1. [data.info()](https://www.geeksforgeeks.org/python-pandas-dataframe-info/)\n",
        "> Pandas dataframe.info() function is used to get a concise summary of the dataframe. It comes really handy when doing exploratory analysis of the data.\n",
        "\n",
        "2. [data.describe()](https://www.geeksforgeeks.org/python-pandas-dataframe-describe-method/)\n",
        "> Pandas describe() is used to view some basic statistical details like percentile, mean, std etc. of a data frame or a series of numeric values.\n",
        "\n",
        "\n",
        "3. [data.iloc[]](https://www.geeksforgeeks.org/python-pandas-series-iloc/)\n",
        "> iloc attribute enables purely integer-location based indexing for selection by position over the given Series object.\n",
        "\n",
        "\n",
        "4. [data.value_count()](https://www.geeksforgeeks.org/python-pandas-index-value_counts/)\n",
        ">  value_counts() function to find the count of all unique values in the given index.\n",
        "\n",
        "5. [data.isnull() / data.isna()](https://www.geeksforgeeks.org/python-pandas-isnull-and-notnull/)\n",
        "> isnull() function detect missing values in the given series object. It return a boolean same-sized object indicating if the values are NA. \n",
        "\n",
        "\n",
        "6. [data.dropna()](https://www.geeksforgeeks.org/python-pandas-dataframe-dropna/#:~:text=Pandas%20dropna()%20method%20allows,Null%20values%20in%20different%20ways.&text=Parameters%3A,or%20'columns'%20for%20String.)\n",
        "> Pandas dropna() method allows the user to analyze and drop Rows/Columns with Null values in different ways.\n",
        "\n",
        "7. [data.fillna()](https://www.geeksforgeeks.org/python-pandas-dataframe-fillna-to-replace-null-values-in-dataframe/)\n",
        "> fillna() manages and let the user replace NaN values with some value of their own.\n",
        "\n",
        "8. [data.drop()](https://www.geeksforgeeks.org/drop-a-list-of-rows-from-a-pandas-dataframe/)\n",
        "\n",
        "<br>\n",
        "\n",
        "\n",
        "9. [data.replace()](https://www.geeksforgeeks.org/python-pandas-dataframe-replace/#:~:text=replace()%20function%20is%20used,Python%20regex%20(regular%20expressions).)\n",
        "> replace() function is used to replace a string, regex, list, dictionary, series, number etc. from a dataframe. \n",
        "\n",
        "10. [data.astype()](https://www.geeksforgeeks.org/python-pandas-dataframe-astype/#:~:text=astype()%20method%20is%20used,type%20to%20another%20data%20type.)\n",
        "> astype() method is used to cast a pandas object to a specified dtype. astype() function also provides the capability to convert any suitable existing column to categorical type.\n",
        "\n",
        "\n",
        "11. [data.where()](https://www.geeksforgeeks.org/python-pandas-dataframe-where/)\n",
        "> Pandas where() method is used to check a data frame for one or more condition and return the result accordingly. By default, The rows not satisfying the condition are filled with NaN value.\n",
        "\n",
        "\n",
        "12. [data.sort_values()](https://www.geeksforgeeks.org/python-pandas-dataframe-sort_values-set-1/#:~:text=Pandas%20sort_values()%20function%20sorts,particular%20column%20cannot%20be%20selected.&text=Every%20parameter%20has%20some%20default%20values%20execept%20the%20'by'%20parameter.)\n",
        "> Pandas sort_values() function sorts a data frame in Ascending or Descending order of passed Column. It's different than the sorted Python function since it cannot sort a data frame and particular column cannot be selected. \n",
        "\n",
        "\n",
        "13. [data.group_by()](https://www.geeksforgeeks.org/python-pandas-dataframe-groupby/)\n",
        "> This function is used to split the data into groups based on some criteria. pandas objects can be split on any of their axes.\n"
      ]
    },
    {
      "cell_type": "markdown",
      "metadata": {
        "id": "Z2auRSYB9pFI"
      },
      "source": [
        ""
      ]
    },
    {
      "cell_type": "code",
      "metadata": {
        "id": "yTvXsNe5Y3ZB"
      },
      "source": [
        ""
      ],
      "execution_count": null,
      "outputs": []
    },
    {
      "cell_type": "markdown",
      "metadata": {
        "id": "4C78UWKUtyf6"
      },
      "source": [
        "# **Importing the Library**"
      ]
    },
    {
      "cell_type": "code",
      "metadata": {
        "id": "x0HJyQB0t48b"
      },
      "source": [
        "import pandas as pd"
      ],
      "execution_count": null,
      "outputs": []
    },
    {
      "cell_type": "markdown",
      "metadata": {
        "id": "v87q5RV_kekp"
      },
      "source": [
        "# **DataFrame**\n",
        "\n",
        "<br>\n",
        "\n",
        "Pandas DataFrame is two-dimensional size-mutable, potentially heterogeneous tabular data structure with labeled axes (rows and columns). A Data frame is a two-dimensional data structure, i.e., data is aligned in a tabular fashion in rows and columns. Pandas DataFrame consists of three principal components, the data, rows, and columns.\n",
        "\n",
        "<br>\n",
        "\n",
        "**d= pd.DataFrame( data , index )**\n",
        "\n",
        "**data could be a list or a dictionary .\n",
        "by default index is 0,1,2....**\n",
        "\n",
        "**but could be explicitelly given .**\n",
        "\n",
        "<br>\n"
      ]
    },
    {
      "cell_type": "code",
      "metadata": {
        "id": "lOzl9QycU9cG"
      },
      "source": [
        "'''Using List default index'''"
      ],
      "execution_count": null,
      "outputs": []
    },
    {
      "cell_type": "code",
      "metadata": {
        "id": "i0j8WFzXXKis"
      },
      "source": [
        "'''Using List with index'''"
      ],
      "execution_count": null,
      "outputs": []
    },
    {
      "cell_type": "code",
      "metadata": {
        "id": "5J_Wg7e7k3NF"
      },
      "source": [
        "'''Using Dictionary and index '''"
      ],
      "execution_count": null,
      "outputs": []
    },
    {
      "cell_type": "markdown",
      "metadata": {
        "id": "Mn0WIDviZ4WK"
      },
      "source": [
        "# **Importing Data**"
      ]
    },
    {
      "cell_type": "code",
      "metadata": {
        "id": "hzEyDpJpZ6ww"
      },
      "source": [
        "path='/path'\n",
        "data= pd.read_csv()\n"
      ],
      "execution_count": null,
      "outputs": []
    },
    {
      "cell_type": "markdown",
      "metadata": {
        "id": "CmNmEGnfiJcN"
      },
      "source": [
        "# **Head / Tail**"
      ]
    },
    {
      "cell_type": "code",
      "metadata": {
        "id": "mpbesfm_dGhD"
      },
      "source": [
        "'''Head'''"
      ],
      "execution_count": null,
      "outputs": []
    },
    {
      "cell_type": "code",
      "metadata": {
        "id": "6jMRgsa4dIpa"
      },
      "source": [
        "'''Tail'''"
      ],
      "execution_count": null,
      "outputs": []
    },
    {
      "cell_type": "markdown",
      "metadata": {
        "id": "Z1pIy1GXtNQG"
      },
      "source": [
        "# **Info()**"
      ]
    },
    {
      "cell_type": "code",
      "metadata": {
        "id": "rishlKDodRyT"
      },
      "source": [
        "data.info()"
      ],
      "execution_count": null,
      "outputs": []
    },
    {
      "cell_type": "markdown",
      "metadata": {
        "id": "cFtC-JFTtUwi"
      },
      "source": [
        "# **Describe()**"
      ]
    },
    {
      "cell_type": "code",
      "metadata": {
        "id": "yRF5EcRWhl_x"
      },
      "source": [
        "data.describe()"
      ],
      "execution_count": null,
      "outputs": []
    },
    {
      "cell_type": "markdown",
      "metadata": {
        "id": "HIh11E-atbTj"
      },
      "source": [
        "# **iloc()**"
      ]
    },
    {
      "cell_type": "code",
      "metadata": {
        "id": "iq54T38Ah5iA"
      },
      "source": [
        "data.iloc[2:7]"
      ],
      "execution_count": null,
      "outputs": []
    },
    {
      "cell_type": "code",
      "metadata": {
        "id": "ebiPU4_ooG8J"
      },
      "source": [
        "data.iloc[:,3]"
      ],
      "execution_count": null,
      "outputs": []
    },
    {
      "cell_type": "code",
      "metadata": {
        "id": "J1k1ikbQnpNg"
      },
      "source": [
        "data.iloc[2:7,1:3]"
      ],
      "execution_count": null,
      "outputs": []
    },
    {
      "cell_type": "markdown",
      "metadata": {
        "id": "tY8GRAU8uyLR"
      },
      "source": [
        "# **Value_counts()**"
      ]
    },
    {
      "cell_type": "code",
      "metadata": {
        "id": "j9M957Eoi6Bn"
      },
      "source": [
        "data['Purchased'].value_counts() "
      ],
      "execution_count": null,
      "outputs": []
    },
    {
      "cell_type": "code",
      "metadata": {
        "id": "6qq6qdRNu_pD"
      },
      "source": [
        ""
      ],
      "execution_count": null,
      "outputs": []
    },
    {
      "cell_type": "markdown",
      "metadata": {
        "id": "W_Ya9hFGvF7P"
      },
      "source": [
        "# **isnull() / isna()**"
      ]
    },
    {
      "cell_type": "code",
      "metadata": {
        "id": "QNJF4tYfvKWh"
      },
      "source": [
        "data.isna()"
      ],
      "execution_count": null,
      "outputs": []
    },
    {
      "cell_type": "code",
      "metadata": {
        "id": "ba7Dwe9pxHyq"
      },
      "source": [
        "data.isnull()"
      ],
      "execution_count": null,
      "outputs": []
    },
    {
      "cell_type": "code",
      "metadata": {
        "id": "pTCynTW-xJ5f"
      },
      "source": [
        "''' Get the No of Nan in each row '''\n",
        "\n",
        "data.isnull().sum()"
      ],
      "execution_count": null,
      "outputs": []
    },
    {
      "cell_type": "markdown",
      "metadata": {
        "id": "UEtN_wyHxPrR"
      },
      "source": [
        "# **dropna()**\n",
        "\n",
        "by default it will remove the complete row if there is atleast 1 **NaN** in that row.\n",
        "\n",
        "\n",
        "**how**: ‘any’ drops the row/column if ANY value is Null and ‘all’ drops only if ALL values are null.\n",
        "\n",
        "\n",
        "<br>\n"
      ]
    },
    {
      "cell_type": "code",
      "metadata": {
        "id": "CTM97dZpxW85"
      },
      "source": [
        "'''It will remove all the rows becz there is one nan in every row due to Date Column'''\n",
        "\n",
        "d1=data.dropna(how='any')\n",
        "d2=data.dropna(how='all')\n"
      ],
      "execution_count": null,
      "outputs": []
    },
    {
      "cell_type": "code",
      "metadata": {
        "id": "wjqeUR6FxXKi"
      },
      "source": [
        "print(d1)\n",
        "print(d2)"
      ],
      "execution_count": null,
      "outputs": []
    },
    {
      "cell_type": "code",
      "metadata": {
        "id": "Nynq4zFE3V96"
      },
      "source": [
        ""
      ],
      "execution_count": null,
      "outputs": []
    },
    {
      "cell_type": "markdown",
      "metadata": {
        "id": "39c_BJxY3Z2T"
      },
      "source": [
        "# **fillna()**"
      ]
    },
    {
      "cell_type": "code",
      "metadata": {
        "id": "rISu9ZOL3dW2"
      },
      "source": [
        "'''' Numerical Columns '''\n",
        "mean_age=data['Age'].mean()\n",
        "mean_salary=data['Salary'].mean()\n",
        "\n",
        "\n",
        "data['Salary'].fillna(mean_salary,inplace=True)\n",
        "data['Age'].fillna(mean_age,inplace=True)\n"
      ],
      "execution_count": null,
      "outputs": []
    },
    {
      "cell_type": "code",
      "metadata": {
        "id": "_10agmm84_PH"
      },
      "source": [
        "''' Catagorical Column '''\n",
        "\n",
        "''' Mode '''\n",
        "\n",
        "data['Country'].mode()\n"
      ],
      "execution_count": null,
      "outputs": []
    },
    {
      "cell_type": "code",
      "metadata": {
        "id": "4GfHP6KEy1qg"
      },
      "source": [
        "data['Country'] = data['Country'].fillna(data['Country'].mode()[0])\n"
      ],
      "execution_count": null,
      "outputs": []
    },
    {
      "cell_type": "code",
      "metadata": {
        "id": "2TiLb63h5IQu"
      },
      "source": [
        ""
      ],
      "execution_count": null,
      "outputs": []
    },
    {
      "cell_type": "markdown",
      "metadata": {
        "id": "eK9R508f5Iqm"
      },
      "source": [
        "# **drop()**"
      ]
    },
    {
      "cell_type": "code",
      "metadata": {
        "id": "rQzMBISc5Lvx"
      },
      "source": [
        "data.drop(['Date'],axis=1,inplace=True)"
      ],
      "execution_count": null,
      "outputs": []
    },
    {
      "cell_type": "code",
      "metadata": {
        "id": "Z4A72_Ba588Q"
      },
      "source": [
        "data"
      ],
      "execution_count": null,
      "outputs": []
    },
    {
      "cell_type": "code",
      "metadata": {
        "id": "jJG6JVZ46fyc"
      },
      "source": [
        ""
      ],
      "execution_count": null,
      "outputs": []
    },
    {
      "cell_type": "markdown",
      "metadata": {
        "id": "lxhRamFgHaqE"
      },
      "source": [
        "# **replace()**"
      ]
    },
    {
      "cell_type": "code",
      "metadata": {
        "id": "gd4dChTUHlDd"
      },
      "source": [
        "'''Let's replace all Yes with 1 and No with 0 '''\n",
        "\n",
        "data['Purchased'].replace(to_replace=['Yes','No'],value=[1,0],inplace=True)\n"
      ],
      "execution_count": null,
      "outputs": []
    },
    {
      "cell_type": "code",
      "metadata": {
        "id": "XXFfYNFtHlG0"
      },
      "source": [
        ""
      ],
      "execution_count": null,
      "outputs": []
    },
    {
      "cell_type": "markdown",
      "metadata": {
        "id": "WdEVJx7pH04V"
      },
      "source": [
        "# **astype()**"
      ]
    },
    {
      "cell_type": "code",
      "metadata": {
        "id": "NQn6ZyTRIaqM"
      },
      "source": [
        "'''Convert the dtype of Age and Salary to integer '''\n",
        "\n",
        "data['Age']=data['Age'].astype(int)\n",
        "\n",
        "data['Salary']=data['Salary'].astype(int)"
      ],
      "execution_count": null,
      "outputs": []
    },
    {
      "cell_type": "code",
      "metadata": {
        "id": "Zhe6yZSIIanA"
      },
      "source": [
        ""
      ],
      "execution_count": null,
      "outputs": []
    },
    {
      "cell_type": "markdown",
      "metadata": {
        "id": "KLnxts1YCZJk"
      },
      "source": [
        "# **where()**"
      ]
    },
    {
      "cell_type": "code",
      "metadata": {
        "id": "Cb_ktft7JxAa"
      },
      "source": [
        "'''We will be looking at the specific data where the the product is purchesed '''\n",
        "\n",
        "\n",
        "''' Normal Methoud '''\n",
        "\n",
        "yes=data[data['Purchased']==1]\n",
        "yes\n"
      ],
      "execution_count": null,
      "outputs": []
    },
    {
      "cell_type": "code",
      "metadata": {
        "id": "hmlrMRpMCys6"
      },
      "source": [
        "'''Using Where() '''\n",
        "condition1=data['Purchased']==1\n",
        "condition2=data['Age']>35\n",
        "data.where(condition1 & condition2,other='-')\n",
        "\n"
      ],
      "execution_count": null,
      "outputs": []
    },
    {
      "cell_type": "code",
      "metadata": {
        "id": "bfC3lARlLu_j"
      },
      "source": [
        ""
      ],
      "execution_count": null,
      "outputs": []
    },
    {
      "cell_type": "markdown",
      "metadata": {
        "id": "bA4y6BSpLvKO"
      },
      "source": [
        "# **Sorting**"
      ]
    },
    {
      "cell_type": "code",
      "metadata": {
        "id": "PMcardwiLzdE"
      },
      "source": [
        "'''Sorting the data based on salary '''\n",
        "\n",
        "data.sort_values('Salary',axis=0,na_position='last',ascending=True)\n",
        "\n"
      ],
      "execution_count": null,
      "outputs": []
    },
    {
      "cell_type": "code",
      "metadata": {
        "id": "hzl4G00DLzxv"
      },
      "source": [
        ""
      ],
      "execution_count": null,
      "outputs": []
    },
    {
      "cell_type": "markdown",
      "metadata": {
        "id": "qVbUPBPZWE4M"
      },
      "source": [
        "# **Groupby()**\n",
        "\n",
        "1. We can get data corresponding to a specific column.\n",
        "\n",
        "2. We can get data corresponding to a specific data point within any column.\n",
        "\n",
        "\n",
        "**Returns** a **Object** \n",
        "\n",
        "this Object have two main methoud  \n",
        "1. .first()\n",
        "2. .get_group('')\n",
        "\n",
        "<br>"
      ]
    },
    {
      "cell_type": "code",
      "metadata": {
        "id": "eNq_UAWKWFfR"
      },
      "source": [
        "\n",
        "group=data.groupby('Country')\n",
        "group\n"
      ],
      "execution_count": null,
      "outputs": []
    },
    {
      "cell_type": "code",
      "metadata": {
        "id": "snTwRvzJYCVF"
      },
      "source": [
        "group.first()"
      ],
      "execution_count": null,
      "outputs": []
    },
    {
      "cell_type": "code",
      "metadata": {
        "id": "U42J4P55YMrN"
      },
      "source": [
        "group.get_group('France')"
      ],
      "execution_count": null,
      "outputs": []
    },
    {
      "cell_type": "code",
      "metadata": {
        "id": "D9khEqHzYo0W"
      },
      "source": [
        ""
      ],
      "execution_count": null,
      "outputs": []
    }
  ]
}